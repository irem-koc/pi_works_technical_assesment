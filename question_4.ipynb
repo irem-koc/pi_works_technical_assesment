{
 "cells": [
  {
   "cell_type": "code",
   "execution_count": 1,
   "id": "8596a1c3",
   "metadata": {},
   "outputs": [],
   "source": [
    "import numpy as np\n",
    "import pandas as pd"
   ]
  },
  {
   "cell_type": "code",
   "execution_count": null,
   "id": "ce77c25a",
   "metadata": {},
   "outputs": [],
   "source": [
    "\"\"\"Please read this section and post your replies to Questions 4-5-6-7)\n",
    "Below is a dataset for daily vaccination numbers per country.  Please implement a small program \n",
    "that reads the input file and produces the desired outputs for below questions, optimized for \n",
    "speed of operation. (Preferred language is Python or C#) \n",
    "\n",
    "Please paste the link to the code implementation tasks as answer shared using pastebin, \n",
    "github, bitbucket, coderpad.io, dotnetfiddle, jsfiddle, or any other public web-site.\"\"\"\n",
    "\n",
    "#Code Implementation Task: Implement code to fill the missing data (impute) in daily_vaccinations\n",
    "#column per country with the minimum daily vaccination number of relevant countries.  \n",
    "#Note: If a country does not have any valid vaccination number yet, fill it with “0” (zero). \n",
    "#Please  provide the link to your code as answer to this question."
   ]
  },
  {
   "cell_type": "markdown",
   "id": "ad63c64c",
   "metadata": {},
   "source": [
    "### 1- Code Implementation Task: Implement code to fill the missing data (impute) in daily_vaccinations column per country with the minimum daily vaccination number of relevant countries.  Note: If a country does not have any valid vaccination number yet, fill it with “0” (zero). Please  provide the link to your code as answer to this question."
   ]
  },
  {
   "cell_type": "code",
   "execution_count": null,
   "id": "4a6c20cf",
   "metadata": {},
   "outputs": [],
   "source": [
    "df = pd.read_csv(\"country_vaccination_stats.csv\")"
   ]
  },
  {
   "cell_type": "code",
   "execution_count": null,
   "id": "75f9595e",
   "metadata": {},
   "outputs": [],
   "source": [
    "#df.to_excel (r'C:\\Users\\İREM KOÇ\\Desktop\\New_Products.xlsx', index = None, header=True)"
   ]
  },
  {
   "cell_type": "code",
   "execution_count": null,
   "id": "ec7088d2",
   "metadata": {},
   "outputs": [],
   "source": [
    "min_amounts_country = df.groupby([\"country\"])[\"daily_vaccinations\"].min()"
   ]
  },
  {
   "cell_type": "code",
   "execution_count": null,
   "id": "b7b4cd1a",
   "metadata": {},
   "outputs": [],
   "source": [
    "dict(min_amounts_country)"
   ]
  },
  {
   "cell_type": "code",
   "execution_count": null,
   "id": "e436d5fb",
   "metadata": {},
   "outputs": [],
   "source": [
    "index_nans = df[df[\"daily_vaccinations\"].isnull()].index\n",
    "\n",
    "index_nans"
   ]
  },
  {
   "cell_type": "code",
   "execution_count": null,
   "id": "ae95ec06",
   "metadata": {},
   "outputs": [],
   "source": [
    "for i in index_nans:\n",
    "    if np.isnan(min_amounts_country[df.iloc[i][\"country\"]]):\n",
    "        val =0\n",
    "        df.fillna(axis = 1, value = val, inplace=True, limit=1)\n",
    "    else:\n",
    "        val = min_amounts_country[df.iloc[i][\"country\"]]\n",
    "        df.fillna(axis = 1, value = val, inplace=True, limit=1)\n",
    "    "
   ]
  },
  {
   "cell_type": "code",
   "execution_count": null,
   "id": "13515050",
   "metadata": {},
   "outputs": [],
   "source": [
    "df"
   ]
  },
  {
   "cell_type": "code",
   "execution_count": null,
   "id": "594048a6",
   "metadata": {},
   "outputs": [],
   "source": [
    "#df.to_excel (r'C:\\Users\\İREM KOÇ\\Desktop\\New_Products_first_question.xlsx', index = None, header=True)"
   ]
  },
  {
   "cell_type": "markdown",
   "id": "d4dc35a4",
   "metadata": {},
   "source": [
    "### Code Implementation Task: Implement code to list the top-3 countries with highest median daily vaccination numbers by considering missing values imputed version of dataset. Please  provide the link to your code as answer to this question."
   ]
  },
  {
   "cell_type": "code",
   "execution_count": null,
   "id": "fc63648a",
   "metadata": {},
   "outputs": [],
   "source": [
    "median_country = df.groupby(\"country\")[\"daily_vaccinations\"].median()"
   ]
  },
  {
   "cell_type": "code",
   "execution_count": null,
   "id": "fced40bf",
   "metadata": {},
   "outputs": [],
   "source": [
    "median_country"
   ]
  },
  {
   "cell_type": "code",
   "execution_count": null,
   "id": "2974710f",
   "metadata": {},
   "outputs": [],
   "source": [
    "median_country.sort_values(ascending=False).head(3)"
   ]
  },
  {
   "cell_type": "code",
   "execution_count": null,
   "id": "0f18ea17",
   "metadata": {},
   "outputs": [],
   "source": [
    "list1 = list(median_country.sort_values(ascending=False).head(3).keys())"
   ]
  },
  {
   "cell_type": "code",
   "execution_count": null,
   "id": "eb687384",
   "metadata": {},
   "outputs": [],
   "source": [
    "list1"
   ]
  },
  {
   "cell_type": "markdown",
   "id": "92be191e",
   "metadata": {},
   "source": [
    "### What is the number of total vaccinations done on 1/6/2021 (MM/DD/YYYY) by considering missing values imputed version of dataset? Please  just provide the number as answer."
   ]
  },
  {
   "cell_type": "code",
   "execution_count": null,
   "id": "f17c4fa6",
   "metadata": {},
   "outputs": [],
   "source": [
    "df[df[\"date\"]==\"1/6/2021\"].count()"
   ]
  },
  {
   "cell_type": "code",
   "execution_count": null,
   "id": "a5bb8a7f",
   "metadata": {},
   "outputs": [],
   "source": [
    "\"\"\"Assume any database includes below columns and you are requested to process Stats_Access_Link \n",
    "column and extract pure url information inside per device type. \n",
    "\n",
    "   \n",
    "\n",
    "What would you use for this task, please write your detailed answer with exact solution? \n",
    "Please  provide the link to your code as answer to this question \n",
    "\n",
    "Example: for the device type AXO145, we would like to get xcd32112.smart_meter.com regardless \n",
    "from its access protocol is SSL secured or not.\n",
    "\"\"\""
   ]
  },
  {
   "cell_type": "code",
   "execution_count": 2,
   "id": "c2618b19",
   "metadata": {},
   "outputs": [],
   "source": [
    "dict1 = {\"Device_Type\":[\"AXO145\",\"TRU151\",\"ZOD231\",\"YRT326\",\"LWR245\"],\n",
    "         \"Stats_Access_Link\":[\"<url>https://xcd32112.smart_meter.com</url>\",\"<url>https://tXh67.dia_meter.com</url>\",\"<url>https://yT5495.smart_meter.com</url>\",\"<url>https://ret323_Tru.crown.com</url>\",\"<url>https://luwr3243.celcius.com</url>\"]}"
   ]
  },
  {
   "cell_type": "code",
   "execution_count": 3,
   "id": "bf996fc3",
   "metadata": {},
   "outputs": [],
   "source": [
    "df= pd.DataFrame(dict1)"
   ]
  },
  {
   "cell_type": "code",
   "execution_count": 4,
   "id": "2d1640bc",
   "metadata": {},
   "outputs": [
    {
     "data": {
      "text/html": [
       "<div>\n",
       "<style scoped>\n",
       "    .dataframe tbody tr th:only-of-type {\n",
       "        vertical-align: middle;\n",
       "    }\n",
       "\n",
       "    .dataframe tbody tr th {\n",
       "        vertical-align: top;\n",
       "    }\n",
       "\n",
       "    .dataframe thead th {\n",
       "        text-align: right;\n",
       "    }\n",
       "</style>\n",
       "<table border=\"1\" class=\"dataframe\">\n",
       "  <thead>\n",
       "    <tr style=\"text-align: right;\">\n",
       "      <th></th>\n",
       "      <th>Device_Type</th>\n",
       "      <th>Stats_Access_Link</th>\n",
       "    </tr>\n",
       "  </thead>\n",
       "  <tbody>\n",
       "    <tr>\n",
       "      <th>0</th>\n",
       "      <td>AXO145</td>\n",
       "      <td>&lt;url&gt;https://xcd32112.smart_meter.com&lt;/url&gt;</td>\n",
       "    </tr>\n",
       "    <tr>\n",
       "      <th>1</th>\n",
       "      <td>TRU151</td>\n",
       "      <td>&lt;url&gt;https://tXh67.dia_meter.com&lt;/url&gt;</td>\n",
       "    </tr>\n",
       "    <tr>\n",
       "      <th>2</th>\n",
       "      <td>ZOD231</td>\n",
       "      <td>&lt;url&gt;https://yT5495.smart_meter.com&lt;/url&gt;</td>\n",
       "    </tr>\n",
       "    <tr>\n",
       "      <th>3</th>\n",
       "      <td>YRT326</td>\n",
       "      <td>&lt;url&gt;https://ret323_Tru.crown.com&lt;/url&gt;</td>\n",
       "    </tr>\n",
       "    <tr>\n",
       "      <th>4</th>\n",
       "      <td>LWR245</td>\n",
       "      <td>&lt;url&gt;https://luwr3243.celcius.com&lt;/url&gt;</td>\n",
       "    </tr>\n",
       "  </tbody>\n",
       "</table>\n",
       "</div>"
      ],
      "text/plain": [
       "  Device_Type                            Stats_Access_Link\n",
       "0      AXO145  <url>https://xcd32112.smart_meter.com</url>\n",
       "1      TRU151       <url>https://tXh67.dia_meter.com</url>\n",
       "2      ZOD231    <url>https://yT5495.smart_meter.com</url>\n",
       "3      YRT326      <url>https://ret323_Tru.crown.com</url>\n",
       "4      LWR245      <url>https://luwr3243.celcius.com</url>"
      ]
     },
     "execution_count": 4,
     "metadata": {},
     "output_type": "execute_result"
    }
   ],
   "source": [
    "df"
   ]
  },
  {
   "cell_type": "code",
   "execution_count": 6,
   "id": "3659360a",
   "metadata": {},
   "outputs": [
    {
     "name": "stdout",
     "output_type": "stream",
     "text": [
      "tag_name:  url \n",
      "\n",
      "url:  <url>https://xcd32112.smart_meter.com</url> \n",
      " \n",
      " 1 \n",
      " xcd32112.smart_meter.com\n",
      "tag_name:  url \n",
      "\n",
      "url:  <url>https://tXh67.dia_meter.com</url> \n",
      " \n",
      " 1 \n",
      " tXh67.dia_meter.com\n",
      "tag_name:  url \n",
      "\n",
      "url:  <url>https://yT5495.smart_meter.com</url> \n",
      " \n",
      " 1 \n",
      " yT5495.smart_meter.com\n",
      "tag_name:  url \n",
      "\n",
      "url:  <url>https://ret323_Tru.crown.com</url> \n",
      " \n",
      " 1 \n",
      " ret323_Tru.crown.com\n",
      "tag_name:  url \n",
      "\n",
      "url:  <url>https://luwr3243.celcius.com</url> \n",
      " \n",
      " 1 \n",
      " luwr3243.celcius.com\n"
     ]
    }
   ],
   "source": [
    "rule_for_xml_tag = 1\n",
    "rule_for_access-link = 1\n",
    "for i in df[\"Stats_Access_Link\"]:\n",
    "    https = i.index(\"https://\")\n",
    "    com = i.index(\".com\")\n",
    "    link_section = i[https+8 : com+4]\n",
    "    initial_index = i.index(\"<\")\n",
    "    finish_index = i.index(\">\")\n",
    "    value = i[initial_index + 1 : finish_index]\n",
    "    if value.isupper():\n",
    "        rule_for_xml_tag -= 1\n",
    "    print(\"tag_name: \",value,\"\\n\\nurl: \", i,\"\\n\",\"\\n\",rule_for_xml_tag,\"\\n\",link_section)\n",
    "    if not link_section.isalnum() or \"_\" in link_section or \".\" in link_section:\n",
    "        \n",
    "            "
   ]
  },
  {
   "cell_type": "raw",
   "id": "adb831b5",
   "metadata": {},
   "source": [
    " Rules: \n",
    "+-   Xml tags and protocol parts is guaranteed to be lower case  \n",
    "-   Access link part that we are interested in can have alpha-numeric, case insensitive \n",
    "characters, underscore ( _ ) character and dot ( . ) character only.  "
   ]
  },
  {
   "cell_type": "code",
   "execution_count": null,
   "id": "e541a6ca",
   "metadata": {},
   "outputs": [],
   "source": []
  }
 ],
 "metadata": {
  "kernelspec": {
   "display_name": "Python 3",
   "language": "python",
   "name": "python3"
  },
  "language_info": {
   "codemirror_mode": {
    "name": "ipython",
    "version": 3
   },
   "file_extension": ".py",
   "mimetype": "text/x-python",
   "name": "python",
   "nbconvert_exporter": "python",
   "pygments_lexer": "ipython3",
   "version": "3.9.7"
  }
 },
 "nbformat": 4,
 "nbformat_minor": 5
}
