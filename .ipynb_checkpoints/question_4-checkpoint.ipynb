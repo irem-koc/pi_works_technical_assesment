{
 "cells": [
  {
   "cell_type": "code",
   "execution_count": 52,
   "id": "8596a1c3",
   "metadata": {},
   "outputs": [],
   "source": [
    "import numpy as np\n",
    "import pandas as pd"
   ]
  },
  {
   "cell_type": "code",
   "execution_count": 53,
   "id": "ce77c25a",
   "metadata": {},
   "outputs": [
    {
     "data": {
      "text/plain": [
       "'Please read this section and post your replies to Questions 4-5-6-7)\\nBelow is a dataset for daily vaccination numbers per country.  Please implement a small program \\nthat reads the input file and produces the desired outputs for below questions, optimized for \\nspeed of operation. (Preferred language is Python or C#) \\n\\nPlease paste the link to the code implementation tasks as answer shared using pastebin, \\ngithub, bitbucket, coderpad.io, dotnetfiddle, jsfiddle, or any other public web-site.'"
      ]
     },
     "execution_count": 53,
     "metadata": {},
     "output_type": "execute_result"
    }
   ],
   "source": [
    "\"\"\"Please read this section and post your replies to Questions 4-5-6-7)\n",
    "Below is a dataset for daily vaccination numbers per country.  Please implement a small program \n",
    "that reads the input file and produces the desired outputs for below questions, optimized for \n",
    "speed of operation. (Preferred language is Python or C#) \n",
    "\n",
    "Please paste the link to the code implementation tasks as answer shared using pastebin, \n",
    "github, bitbucket, coderpad.io, dotnetfiddle, jsfiddle, or any other public web-site.\"\"\"\n",
    "\n",
    "#Code Implementation Task: Implement code to fill the missing data (impute) in daily_vaccinations\n",
    "#column per country with the minimum daily vaccination number of relevant countries.  \n",
    "#Note: If a country does not have any valid vaccination number yet, fill it with “0” (zero). \n",
    "#Please  provide the link to your code as answer to this question."
   ]
  },
  {
   "cell_type": "markdown",
   "id": "ad63c64c",
   "metadata": {},
   "source": [
    "### 1- Code Implementation Task: Implement code to fill the missing data (impute) in daily_vaccinations column per country with the minimum daily vaccination number of relevant countries.  Note: If a country does not have any valid vaccination number yet, fill it with “0” (zero). Please  provide the link to your code as answer to this question."
   ]
  },
  {
   "cell_type": "code",
   "execution_count": 62,
   "id": "4a6c20cf",
   "metadata": {},
   "outputs": [],
   "source": [
    "df = pd.read_csv(\"country_vaccination_stats.csv\")"
   ]
  },
  {
   "cell_type": "code",
   "execution_count": 55,
   "id": "75f9595e",
   "metadata": {},
   "outputs": [],
   "source": [
    "#df.to_excel (r'C:\\Users\\İREM KOÇ\\Desktop\\New_Products.xlsx', index = None, header=True)"
   ]
  },
  {
   "cell_type": "code",
   "execution_count": 63,
   "id": "ec7088d2",
   "metadata": {},
   "outputs": [],
   "source": [
    "min_amounts_country = df.groupby([\"country\"])[\"daily_vaccinations\"].min()"
   ]
  },
  {
   "cell_type": "code",
   "execution_count": 64,
   "id": "b7b4cd1a",
   "metadata": {},
   "outputs": [
    {
     "data": {
      "text/plain": [
       "{'Argentina': 6483.0,\n",
       " 'Austria': 3368.0,\n",
       " 'Bahrain': 943.0,\n",
       " 'Belgium': 1.0,\n",
       " 'Brazil': 112.0,\n",
       " 'Bulgaria': 472.0,\n",
       " 'Canada': 866.0,\n",
       " 'Chile': 51.0,\n",
       " 'China': 187500.0,\n",
       " 'Costa Rica': 240.0,\n",
       " 'Croatia': 989.0,\n",
       " 'Cyprus': 534.0,\n",
       " 'Czechia': 1822.0,\n",
       " 'Denmark': 1994.0,\n",
       " 'Ecuador': 108.0,\n",
       " 'England': 37625.0,\n",
       " 'Estonia': 309.0,\n",
       " 'Finland': 459.0,\n",
       " 'France': 5000.0,\n",
       " 'Germany': 19721.0,\n",
       " 'Gibraltar': 520.0,\n",
       " 'Greece': 549.0,\n",
       " 'Hungary': 1339.0,\n",
       " 'Iceland': 63.0,\n",
       " 'India': 112150.0,\n",
       " 'Indonesia': 11823.0,\n",
       " 'Ireland': 550.0,\n",
       " 'Isle of Man': 90.0,\n",
       " 'Israel': 6887.0,\n",
       " 'Italy': 926.0,\n",
       " 'Kuwait': nan,\n",
       " 'Latvia': 338.0,\n",
       " 'Lithuania': 311.0,\n",
       " 'Luxembourg': 62.0,\n",
       " 'Malta': 259.0,\n",
       " 'Mexico': 1300.0,\n",
       " 'Netherlands': 4000.0,\n",
       " 'Northern Ireland': 1563.0,\n",
       " 'Norway': 224.0,\n",
       " 'Oman': 817.0,\n",
       " 'Panama': 6.0,\n",
       " 'Poland': 4300.0,\n",
       " 'Portugal': 2791.0,\n",
       " 'Romania': 712.0,\n",
       " 'Russia': 3357.0,\n",
       " 'Saudi Arabia': 14153.0,\n",
       " 'Scotland': 3047.0,\n",
       " 'Serbia': 1150.0,\n",
       " 'Seychelles': 500.0,\n",
       " 'Singapore': 2800.0,\n",
       " 'Slovakia': 425.0,\n",
       " 'Slovenia': 1270.0,\n",
       " 'Spain': 41496.0,\n",
       " 'Sweden': 3859.0,\n",
       " 'Switzerland': 3000.0,\n",
       " 'Turkey': 67192.0,\n",
       " 'United Arab Emirates': 30698.0,\n",
       " 'United Kingdom': 46423.0,\n",
       " 'United States': 57909.0,\n",
       " 'Wales': 1763.0}"
      ]
     },
     "execution_count": 64,
     "metadata": {},
     "output_type": "execute_result"
    }
   ],
   "source": [
    "dict(min_amounts_country)"
   ]
  },
  {
   "cell_type": "code",
   "execution_count": 65,
   "id": "e436d5fb",
   "metadata": {},
   "outputs": [
    {
     "data": {
      "text/plain": [
       "Int64Index([   0,   28,   48,   77,  103,  113,  141,  184,  217,  254,  280,\n",
       "             307,  324,  354,  384,  386,  422,  451,  477,  499,  528,  543,\n",
       "             572,  600,  627,  638,  652,  677,  682,  720,  750,  751,  780,\n",
       "             812,  838,  866,  899,  916,  959,  988, 1016, 1022, 1050, 1079,\n",
       "            1108, 1138, 1150, 1193, 1211, 1226, 1238, 1256, 1278, 1300, 1322,\n",
       "            1352, 1365, 1386, 1422, 1459],\n",
       "           dtype='int64')"
      ]
     },
     "execution_count": 65,
     "metadata": {},
     "output_type": "execute_result"
    }
   ],
   "source": [
    "index_nans = df[df[\"daily_vaccinations\"].isnull()].index\n",
    "\n",
    "index_nans"
   ]
  },
  {
   "cell_type": "code",
   "execution_count": 66,
   "id": "ae95ec06",
   "metadata": {},
   "outputs": [],
   "source": [
    "for i in index_nans:\n",
    "    if np.isnan(min_amounts_country[df.iloc[i][\"country\"]]):\n",
    "        val =0\n",
    "        df.fillna(axis = 1, value = val, inplace=True, limit=1)\n",
    "    else:\n",
    "        val = min_amounts_country[df.iloc[i][\"country\"]]\n",
    "        df.fillna(axis = 1, value = val, inplace=True, limit=1)\n",
    "    "
   ]
  },
  {
   "cell_type": "code",
   "execution_count": 67,
   "id": "13515050",
   "metadata": {},
   "outputs": [
    {
     "data": {
      "text/html": [
       "<div>\n",
       "<style scoped>\n",
       "    .dataframe tbody tr th:only-of-type {\n",
       "        vertical-align: middle;\n",
       "    }\n",
       "\n",
       "    .dataframe tbody tr th {\n",
       "        vertical-align: top;\n",
       "    }\n",
       "\n",
       "    .dataframe thead th {\n",
       "        text-align: right;\n",
       "    }\n",
       "</style>\n",
       "<table border=\"1\" class=\"dataframe\">\n",
       "  <thead>\n",
       "    <tr style=\"text-align: right;\">\n",
       "      <th></th>\n",
       "      <th>country</th>\n",
       "      <th>date</th>\n",
       "      <th>daily_vaccinations</th>\n",
       "      <th>vaccines</th>\n",
       "    </tr>\n",
       "  </thead>\n",
       "  <tbody>\n",
       "    <tr>\n",
       "      <th>0</th>\n",
       "      <td>Argentina</td>\n",
       "      <td>12/29/2020</td>\n",
       "      <td>6483.0</td>\n",
       "      <td>Sputnik V</td>\n",
       "    </tr>\n",
       "    <tr>\n",
       "      <th>1</th>\n",
       "      <td>Argentina</td>\n",
       "      <td>12/30/2020</td>\n",
       "      <td>15656.0</td>\n",
       "      <td>Sputnik V</td>\n",
       "    </tr>\n",
       "    <tr>\n",
       "      <th>2</th>\n",
       "      <td>Argentina</td>\n",
       "      <td>12/31/2020</td>\n",
       "      <td>15656.0</td>\n",
       "      <td>Sputnik V</td>\n",
       "    </tr>\n",
       "    <tr>\n",
       "      <th>3</th>\n",
       "      <td>Argentina</td>\n",
       "      <td>1/1/2021</td>\n",
       "      <td>11070.0</td>\n",
       "      <td>Sputnik V</td>\n",
       "    </tr>\n",
       "    <tr>\n",
       "      <th>4</th>\n",
       "      <td>Argentina</td>\n",
       "      <td>1/2/2021</td>\n",
       "      <td>8776.0</td>\n",
       "      <td>Sputnik V</td>\n",
       "    </tr>\n",
       "    <tr>\n",
       "      <th>...</th>\n",
       "      <td>...</td>\n",
       "      <td>...</td>\n",
       "      <td>...</td>\n",
       "      <td>...</td>\n",
       "    </tr>\n",
       "    <tr>\n",
       "      <th>1497</th>\n",
       "      <td>Wales</td>\n",
       "      <td>1/20/2021</td>\n",
       "      <td>11105.0</td>\n",
       "      <td>Oxford/AstraZeneca, Pfizer/BioNTech</td>\n",
       "    </tr>\n",
       "    <tr>\n",
       "      <th>1498</th>\n",
       "      <td>Wales</td>\n",
       "      <td>1/21/2021</td>\n",
       "      <td>12318.0</td>\n",
       "      <td>Oxford/AstraZeneca, Pfizer/BioNTech</td>\n",
       "    </tr>\n",
       "    <tr>\n",
       "      <th>1499</th>\n",
       "      <td>Wales</td>\n",
       "      <td>1/22/2021</td>\n",
       "      <td>15148.0</td>\n",
       "      <td>Oxford/AstraZeneca, Pfizer/BioNTech</td>\n",
       "    </tr>\n",
       "    <tr>\n",
       "      <th>1500</th>\n",
       "      <td>Wales</td>\n",
       "      <td>1/23/2021</td>\n",
       "      <td>17371.0</td>\n",
       "      <td>Oxford/AstraZeneca, Pfizer/BioNTech</td>\n",
       "    </tr>\n",
       "    <tr>\n",
       "      <th>1501</th>\n",
       "      <td>Wales</td>\n",
       "      <td>1/24/2021</td>\n",
       "      <td>17063.0</td>\n",
       "      <td>Oxford/AstraZeneca, Pfizer/BioNTech</td>\n",
       "    </tr>\n",
       "  </tbody>\n",
       "</table>\n",
       "<p>1502 rows × 4 columns</p>\n",
       "</div>"
      ],
      "text/plain": [
       "        country        date  daily_vaccinations  \\\n",
       "0     Argentina  12/29/2020              6483.0   \n",
       "1     Argentina  12/30/2020             15656.0   \n",
       "2     Argentina  12/31/2020             15656.0   \n",
       "3     Argentina    1/1/2021             11070.0   \n",
       "4     Argentina    1/2/2021              8776.0   \n",
       "...         ...         ...                 ...   \n",
       "1497      Wales   1/20/2021             11105.0   \n",
       "1498      Wales   1/21/2021             12318.0   \n",
       "1499      Wales   1/22/2021             15148.0   \n",
       "1500      Wales   1/23/2021             17371.0   \n",
       "1501      Wales   1/24/2021             17063.0   \n",
       "\n",
       "                                 vaccines  \n",
       "0                               Sputnik V  \n",
       "1                               Sputnik V  \n",
       "2                               Sputnik V  \n",
       "3                               Sputnik V  \n",
       "4                               Sputnik V  \n",
       "...                                   ...  \n",
       "1497  Oxford/AstraZeneca, Pfizer/BioNTech  \n",
       "1498  Oxford/AstraZeneca, Pfizer/BioNTech  \n",
       "1499  Oxford/AstraZeneca, Pfizer/BioNTech  \n",
       "1500  Oxford/AstraZeneca, Pfizer/BioNTech  \n",
       "1501  Oxford/AstraZeneca, Pfizer/BioNTech  \n",
       "\n",
       "[1502 rows x 4 columns]"
      ]
     },
     "execution_count": 67,
     "metadata": {},
     "output_type": "execute_result"
    }
   ],
   "source": [
    "df"
   ]
  },
  {
   "cell_type": "code",
   "execution_count": 68,
   "id": "594048a6",
   "metadata": {},
   "outputs": [],
   "source": [
    "#df.to_excel (r'C:\\Users\\İREM KOÇ\\Desktop\\New_Products_first_question.xlsx', index = None, header=True)"
   ]
  },
  {
   "cell_type": "markdown",
   "id": "d4dc35a4",
   "metadata": {},
   "source": [
    "### Code Implementation Task: Implement code to list the top-3 countries with highest median daily vaccination numbers by considering missing values imputed version of dataset. Please  provide the link to your code as answer to this question."
   ]
  },
  {
   "cell_type": "code",
   "execution_count": 72,
   "id": "fc63648a",
   "metadata": {},
   "outputs": [],
   "source": [
    "median_country = df.groupby(\"country\")[\"daily_vaccinations\"].median()"
   ]
  },
  {
   "cell_type": "code",
   "execution_count": 79,
   "id": "fced40bf",
   "metadata": {},
   "outputs": [
    {
     "data": {
      "text/plain": [
       "country\n",
       "Argentina                11645.0\n",
       "Austria                   7850.0\n",
       "Bahrain                   3662.0\n",
       "Belgium                   3606.0\n",
       "Brazil                   17220.0\n",
       "Bulgaria                  1010.0\n",
       "Canada                   11044.0\n",
       "Chile                     1291.0\n",
       "China                   276786.0\n",
       "Costa Rica                 675.5\n",
       "Croatia                   2485.0\n",
       "Cyprus                     708.0\n",
       "Czechia                   5378.0\n",
       "Denmark                   7095.5\n",
       "Ecuador                    108.0\n",
       "England                 107310.5\n",
       "Estonia                   1043.0\n",
       "Finland                   2035.5\n",
       "France                   41496.0\n",
       "Germany                  51184.0\n",
       "Gibraltar                  713.0\n",
       "Greece                    5290.0\n",
       "Hungary                   5464.5\n",
       "Iceland                     63.0\n",
       "India                   173922.0\n",
       "Indonesia                13200.0\n",
       "Ireland                   6528.0\n",
       "Isle of Man                138.0\n",
       "Israel                   92587.0\n",
       "Italy                    44475.5\n",
       "Kuwait                       0.0\n",
       "Latvia                     592.0\n",
       "Lithuania                 1933.5\n",
       "Luxembourg                  88.0\n",
       "Malta                      407.5\n",
       "Mexico                    5488.0\n",
       "Netherlands               6762.0\n",
       "Northern Ireland          2135.0\n",
       "Norway                    2958.0\n",
       "Oman                      1192.0\n",
       "Panama                    1324.0\n",
       "Poland                   22702.5\n",
       "Portugal                  5944.0\n",
       "Romania                  13030.0\n",
       "Russia                   23563.0\n",
       "Saudi Arabia             16807.5\n",
       "Scotland                  5821.0\n",
       "Serbia                    2920.0\n",
       "Seychelles                1000.0\n",
       "Singapore                 4907.0\n",
       "Slovakia                  5357.0\n",
       "Slovenia                  2374.0\n",
       "Spain                    55238.0\n",
       "Sweden                    5382.5\n",
       "Switzerland               3000.0\n",
       "Turkey                  150356.0\n",
       "United Arab Emirates     86430.0\n",
       "United Kingdom          120409.0\n",
       "United States           378253.0\n",
       "Wales                     2198.0\n",
       "Name: daily_vaccinations, dtype: float64"
      ]
     },
     "execution_count": 79,
     "metadata": {},
     "output_type": "execute_result"
    }
   ],
   "source": [
    "median_country"
   ]
  },
  {
   "cell_type": "code",
   "execution_count": 77,
   "id": "2974710f",
   "metadata": {},
   "outputs": [
    {
     "data": {
      "text/plain": [
       "country\n",
       "United States    378253.0\n",
       "China            276786.0\n",
       "India            173922.0\n",
       "Name: daily_vaccinations, dtype: float64"
      ]
     },
     "execution_count": 77,
     "metadata": {},
     "output_type": "execute_result"
    }
   ],
   "source": [
    "median_country.sort_values(ascending=False).head(3)"
   ]
  },
  {
   "cell_type": "code",
   "execution_count": 84,
   "id": "0f18ea17",
   "metadata": {},
   "outputs": [],
   "source": [
    "list1 = list(median_country.sort_values(ascending=False).head(3).keys())"
   ]
  },
  {
   "cell_type": "code",
   "execution_count": 85,
   "id": "eb687384",
   "metadata": {},
   "outputs": [
    {
     "data": {
      "text/plain": [
       "['United States', 'China', 'India']"
      ]
     },
     "execution_count": 85,
     "metadata": {},
     "output_type": "execute_result"
    }
   ],
   "source": [
    "list1"
   ]
  },
  {
   "cell_type": "markdown",
   "id": "92be191e",
   "metadata": {},
   "source": [
    "### What is the number of total vaccinations done on 1/6/2021 (MM/DD/YYYY) by considering missing values imputed version of dataset? Please  just provide the number as answer."
   ]
  },
  {
   "cell_type": "code",
   "execution_count": 87,
   "id": "f17c4fa6",
   "metadata": {},
   "outputs": [
    {
     "data": {
      "text/plain": [
       "country               48\n",
       "date                  48\n",
       "daily_vaccinations    48\n",
       "vaccines              48\n",
       "dtype: int64"
      ]
     },
     "execution_count": 87,
     "metadata": {},
     "output_type": "execute_result"
    }
   ],
   "source": [
    "df[df[\"date\"]==\"1/6/2021\"].count()"
   ]
  }
 ],
 "metadata": {
  "kernelspec": {
   "display_name": "Python 3",
   "language": "python",
   "name": "python3"
  },
  "language_info": {
   "codemirror_mode": {
    "name": "ipython",
    "version": 3
   },
   "file_extension": ".py",
   "mimetype": "text/x-python",
   "name": "python",
   "nbconvert_exporter": "python",
   "pygments_lexer": "ipython3",
   "version": "3.8.8"
  }
 },
 "nbformat": 4,
 "nbformat_minor": 5
}
