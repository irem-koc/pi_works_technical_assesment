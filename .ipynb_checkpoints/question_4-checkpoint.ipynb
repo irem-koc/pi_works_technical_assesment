{
 "cells": [
  {
   "cell_type": "code",
   "execution_count": 2,
   "id": "8596a1c3",
   "metadata": {},
   "outputs": [],
   "source": [
    "import numpy as np\n",
    "import pandas as pd"
   ]
  },
  {
   "cell_type": "code",
   "execution_count": 1,
   "id": "ce77c25a",
   "metadata": {},
   "outputs": [
    {
     "data": {
      "text/plain": [
       "'Please read this section and post your replies to Questions 4-5-6-7)\\nBelow is a dataset for daily vaccination numbers per country.  Please implement a small program \\nthat reads the input file and produces the desired outputs for below questions, optimized for \\nspeed of operation. (Preferred language is Python or C#) \\n\\nPlease paste the link to the code implementation tasks as answer shared using pastebin, github, bitbucket, coderpad.io, dotnetfiddle, jsfiddle, or any other public web-site.'"
      ]
     },
     "execution_count": 1,
     "metadata": {},
     "output_type": "execute_result"
    }
   ],
   "source": [
    "\"\"\"Please read this section and post your replies to Questions 4-5-6-7)\n",
    "Below is a dataset for daily vaccination numbers per country.  Please implement a small program \n",
    "that reads the input file and produces the desired outputs for below questions, optimized for \n",
    "speed of operation. (Preferred language is Python or C#) \n",
    "\n",
    "Please paste the link to the code implementation tasks as answer shared using pastebin, \n",
    "github, bitbucket, coderpad.io, dotnetfiddle, jsfiddle, or any other public web-site.\"\"\"\n",
    "\n",
    "#Code Implementation Task: Implement code to fill the missing data (impute) in daily_vaccinations\n",
    "#column per country with the minimum daily vaccination number of relevant countries.  \n",
    "#Note: If a country does not have any valid vaccination number yet, fill it with “0” (zero). \n",
    "#Please  provide the link to your code as answer to this question."
   ]
  },
  {
   "cell_type": "markdown",
   "id": "1da1e168",
   "metadata": {},
   "source": [
    "### Code Implementation Task: Implement code to fill the missing data (impute) in daily_vaccinations column per country with the minimum daily vaccination number of relevant countries.  Note: If a country does not have any valid vaccination number yet, fill it with “0” (zero). Please  provide the link to your code as answer to this question."
   ]
  },
  {
   "cell_type": "code",
   "execution_count": 37,
   "id": "4a6c20cf",
   "metadata": {},
   "outputs": [],
   "source": [
    "df = pd.read_csv(\"country_vaccination_stats.csv\")"
   ]
  },
  {
   "cell_type": "code",
   "execution_count": 38,
   "id": "c28c59ba",
   "metadata": {},
   "outputs": [],
   "source": [
    "#df.to_excel (r'C:\\Users\\İREM KOÇ\\Desktop\\New_Products.xlsx', index = None, header=True)"
   ]
  },
  {
   "cell_type": "code",
   "execution_count": 41,
   "id": "55e42b4a",
   "metadata": {},
   "outputs": [
    {
     "data": {
      "text/plain": [
       "country\n",
       "Argentina                 6483.0\n",
       "Austria                   3368.0\n",
       "Bahrain                    943.0\n",
       "Belgium                      1.0\n",
       "Brazil                     112.0\n",
       "Bulgaria                   472.0\n",
       "Canada                     866.0\n",
       "Chile                       51.0\n",
       "China                   187500.0\n",
       "Costa Rica                 240.0\n",
       "Croatia                    989.0\n",
       "Cyprus                     534.0\n",
       "Czechia                   1822.0\n",
       "Denmark                   1994.0\n",
       "Ecuador                    108.0\n",
       "England                  37625.0\n",
       "Estonia                    309.0\n",
       "Finland                    459.0\n",
       "France                    5000.0\n",
       "Germany                  19721.0\n",
       "Gibraltar                  520.0\n",
       "Greece                     549.0\n",
       "Hungary                   1339.0\n",
       "Iceland                     63.0\n",
       "India                   112150.0\n",
       "Indonesia                11823.0\n",
       "Ireland                    550.0\n",
       "Isle of Man                 90.0\n",
       "Israel                    6887.0\n",
       "Italy                      926.0\n",
       "Kuwait                       NaN\n",
       "Latvia                     338.0\n",
       "Lithuania                  311.0\n",
       "Luxembourg                  62.0\n",
       "Malta                      259.0\n",
       "Mexico                    1300.0\n",
       "Netherlands               4000.0\n",
       "Northern Ireland          1563.0\n",
       "Norway                     224.0\n",
       "Oman                       817.0\n",
       "Panama                       6.0\n",
       "Poland                    4300.0\n",
       "Portugal                  2791.0\n",
       "Romania                    712.0\n",
       "Russia                    3357.0\n",
       "Saudi Arabia             14153.0\n",
       "Scotland                  3047.0\n",
       "Serbia                    1150.0\n",
       "Seychelles                 500.0\n",
       "Singapore                 2800.0\n",
       "Slovakia                   425.0\n",
       "Slovenia                  1270.0\n",
       "Spain                    41496.0\n",
       "Sweden                    3859.0\n",
       "Switzerland               3000.0\n",
       "Turkey                   67192.0\n",
       "United Arab Emirates     30698.0\n",
       "United Kingdom           46423.0\n",
       "United States            57909.0\n",
       "Wales                     1763.0\n",
       "Name: daily_vaccinations, dtype: float64"
      ]
     },
     "execution_count": 41,
     "metadata": {},
     "output_type": "execute_result"
    }
   ],
   "source": [
    "df.groupby([\"country\"])[\"daily_vaccinations\"].min()"
   ]
  },
  {
   "cell_type": "code",
   "execution_count": null,
   "id": "019b4cad",
   "metadata": {},
   "outputs": [],
   "source": []
  },
  {
   "cell_type": "code",
   "execution_count": null,
   "id": "5ca1f507",
   "metadata": {},
   "outputs": [],
   "source": []
  }
 ],
 "metadata": {
  "kernelspec": {
   "display_name": "Python 3",
   "language": "python",
   "name": "python3"
  },
  "language_info": {
   "codemirror_mode": {
    "name": "ipython",
    "version": 3
   },
   "file_extension": ".py",
   "mimetype": "text/x-python",
   "name": "python",
   "nbconvert_exporter": "python",
   "pygments_lexer": "ipython3",
   "version": "3.8.8"
  }
 },
 "nbformat": 4,
 "nbformat_minor": 5
}
